{
 "cells": [
  {
   "cell_type": "code",
   "execution_count": 2,
   "metadata": {},
   "outputs": [],
   "source": [
    "import pandas as pd\n",
    "import numpy as np\n",
    "import matplotlib.pyplot as plt\n",
    "from bs4 import BeautifulSoup as bs\n",
    "import requests"
   ]
  },
  {
   "cell_type": "markdown",
   "metadata": {},
   "source": [
    "## `New Study`"
   ]
  },
  {
   "cell_type": "code",
   "execution_count": 1,
   "metadata": {},
   "outputs": [],
   "source": [
    "import pandas as pd\n",
    "import numpy as np\n",
    "import matplotlib.pyplot as plt\n",
    "from bs4 import BeautifulSoup as bs\n",
    "import requests"
   ]
  },
  {
   "cell_type": "code",
   "execution_count": 2,
   "metadata": {},
   "outputs": [],
   "source": [
    "headers={'User-Agent':'Mozilla/5.0 (Windows NT 6.3; Win 64 ; x64) Apple WeKit /537.36(KHTML , like Gecko) Chrome/80.0.3987.162 Safari/537.36'}\n",
    "webpage=requests.get(f'https://wipfilms.net/list-of-women-prison-films-collection/?pgno=1', headers=headers).text\n",
    "soup = bs(webpage,'lxml')"
   ]
  },
  {
   "cell_type": "code",
   "execution_count": 19,
   "metadata": {},
   "outputs": [
    {
     "data": {
      "text/plain": [
       "['https://wipfilms.net/category/documentary-category/?pgno=',\n",
       " 'https://wipfilms.net/category/emmanuelle-collection/?pgno=',\n",
       " 'https://wipfilms.net/category/women-in-prison-videos/?pgno=',\n",
       " 'https://wipfilms.net/category/hardcore-classic-adult-flicks/?pgno=',\n",
       " 'https://wipfilms.net/category/incest-films/?pgno=',\n",
       " 'https://wipfilms.net/category/nunsploitation-exploitation-category/?pgno=',\n",
       " 'https://wipfilms.net/category/ozploitation-genre/?pgno=',\n",
       " 'https://wipfilms.net/category/pinky-violence-and-pinku-eiga/?pgno=',\n",
       " 'https://wipfilms.net/category/post-apocalyptic-and-post-apocalypse/?pgno=',\n",
       " 'https://wipfilms.net/category/rape-revenge-and-criminal-cinema/?pgno=',\n",
       " 'https://wipfilms.net/category/sci-fi-and-fantasy/?pgno=',\n",
       " 'https://wipfilms.net/category/slasher-and-giallo/?pgno=',\n",
       " 'https://wipfilms.net/category/softcore-erotic-flicks/?pgno=',\n",
       " 'https://wipfilms.net/category/splatter-and-gore/?pgno=',\n",
       " 'https://wipfilms.net/category/surreal-and-bizzare/?pgno=',\n",
       " 'https://wipfilms.net/category/sword-and-sorcery-adventure/?pgno=',\n",
       " 'https://wipfilms.net/category/teensploitation-genre/?pgno=',\n",
       " 'https://wipfilms.net/category/uncategorized/?pgno=',\n",
       " 'https://wipfilms.net/category/vampire-witches-werewolves/?pgno=',\n",
       " 'https://wipfilms.net/category/women-in-captivity-2/?pgno=',\n",
       " 'https://wipfilms.net/category/women-in-prison-collection/?pgno=',\n",
       " 'https://wipfilms.net/category/zombies-and-undead/?pgno=']"
      ]
     },
     "execution_count": 19,
     "metadata": {},
     "output_type": "execute_result"
    }
   ],
   "source": [
    "import re\n",
    "categories = []\n",
    "for i in soup.find_all('li', class_=re.compile(\"^cat-item cat-item-\")):\n",
    "    categories.append(i.a.get('href')+\"?pgno=\")\n",
    "categories"
   ]
  },
  {
   "cell_type": "code",
   "execution_count": 20,
   "metadata": {},
   "outputs": [],
   "source": [
    "webpage1=requests.get(f'{categories[0]}1', headers=headers).text\n",
    "page1 = bs(webpage1,'lxml')"
   ]
  },
  {
   "cell_type": "code",
   "execution_count": 25,
   "metadata": {},
   "outputs": [
    {
     "name": "stdout",
     "output_type": "stream",
     "text": [
      "UFO Syndrome\n",
      "\n",
      "Vampira and Me\n",
      "\n",
      "Cam Girlz\n",
      "\n",
      "Dirty Diaries\n",
      "\n",
      "Wisconsin Death Trip\n",
      "\n",
      "The Legend of the Witches\n",
      "\n",
      "Manson Family Movies\n",
      "\n",
      "Janis\n",
      "\n",
      "The Dark Side of Porn\n",
      "\n",
      "Blooded\n",
      "\n"
     ]
    }
   ],
   "source": [
    "for i in page1.find_all(\"div\", class_ = \"postwrap\"):\n",
    "    print(i.find(\"h2\", class_ = \"posttitle\").text) # movie name\n",
    "    print()"
   ]
  },
  {
   "cell_type": "code",
   "execution_count": 41,
   "metadata": {},
   "outputs": [
    {
     "name": "stdout",
     "output_type": "stream",
     "text": [
      "Run time:  1h 35min\n",
      "Run time:  1h 46min\n",
      "Run time:  1h 8min\n",
      "Run time:  1h 38min\n",
      "78 min\n",
      "72 min\n",
      "Run time:  1h 28min\n",
      "Run time:  1h 36min\n",
      "No runtime\n",
      "Run time: 1h 20min\n"
     ]
    }
   ],
   "source": [
    "# Runtime\n",
    "for i in page1.find_all(\"div\", class_ = \"postwrap\"):\n",
    "    try:\n",
    "        print(i.find_all(\"div\", style = re.compile(\"^height: 30px\"))[0].text.strip()) \n",
    "    except:\n",
    "        try:\n",
    "            print(i.find_all(\"span\", id= \"aaa\")[1].text.strip())\n",
    "        except:\n",
    "            print('No runtime')"
   ]
  },
  {
   "cell_type": "code",
   "execution_count": null,
   "metadata": {},
   "outputs": [],
   "source": [
    "var = page1.find_all(\"div\", class_ = \"postwrap\")[3]\n",
    "print(var.prettify())"
   ]
  },
  {
   "cell_type": "code",
   "execution_count": 64,
   "metadata": {},
   "outputs": [
    {
     "data": {
      "text/plain": [
       "<img alt=\"Dirty Diaries movie\" src=\"https://wipfilms.net/wp-content/plugins/moviefeed/img/list.png\" style=\"vertical-align: middle;\" title=\"Dirty Diaries film\"/>"
      ]
     },
     "execution_count": 64,
     "metadata": {},
     "output_type": "execute_result"
    }
   ],
   "source": [
    "var.find_all(\"div\", style = re.compile(\"^height: 30px\"))[4].next_element"
   ]
  },
  {
   "cell_type": "code",
   "execution_count": 76,
   "metadata": {},
   "outputs": [
    {
     "data": {
      "text/plain": [
       "'Writers: Njutafilms, Story AB, Swedish Film Institute'"
      ]
     },
     "execution_count": 76,
     "metadata": {},
     "output_type": "execute_result"
    }
   ],
   "source": [
    "var.find_all(\"div\")[8].p.text.strip()"
   ]
  },
  {
   "cell_type": "code",
   "execution_count": 29,
   "metadata": {},
   "outputs": [
    {
     "name": "stdout",
     "output_type": "stream",
     "text": [
      "Rating: 5.9\n",
      "Rating: 7.9\n",
      "Rating: 6.3\n",
      "Rating: 4.7\n",
      "No Rating\n",
      "No Rating\n",
      "Rating: 4.8\n",
      "Rating: 7.9\n",
      "No Rating\n",
      "Rating: 4.2\n"
     ]
    }
   ],
   "source": [
    "# rating\n",
    "for i in page1.find_all(\"div\", class_ = \"postwrap\"):\n",
    "    try:\n",
    "        print(i.find_all(\"div\", style = re.compile(\"^height: 30px\"))[1].text.strip()) # rating\n",
    "    except:\n",
    "        print('No Rating')"
   ]
  },
  {
   "cell_type": "code",
   "execution_count": 30,
   "metadata": {},
   "outputs": [
    {
     "name": "stdout",
     "output_type": "stream",
     "text": [
      "Genres: Documentary\n",
      "Genres: Documentary\n",
      "Genres: Documentary,Romance\n",
      "Genres: Adult\n",
      "No Genre\n",
      "No Genre\n",
      "Genres: Horror\n",
      "Genres: Documentary,Biography,Music\n",
      "No Genre\n",
      "Genres: Horror,Thriller\n"
     ]
    }
   ],
   "source": [
    "# Genre\n",
    "for i in page1.find_all(\"div\", class_ = \"postwrap\"):\n",
    "    try:\n",
    "        print(i.find_all(\"div\", style = re.compile(\"^height: 30px\"))[2].text.strip()) # rating\n",
    "    except:\n",
    "        print('No Genre')"
   ]
  },
  {
   "cell_type": "code",
   "execution_count": 34,
   "metadata": {},
   "outputs": [
    {
     "name": "stdout",
     "output_type": "stream",
     "text": [
      "Director: Richard Martin\n",
      "Director: R.H. Greene\n",
      "Director: Sean Dunne\n",
      "Director: Ester Martin Bergsmark, Mia Engberg\n",
      "James Marsh\n",
      "Malcolm Leigh\n",
      "Director: John Aes-Nihil\n",
      "Director: Howard Alk\n",
      "No Director\n",
      "Director: Edward Boase\n"
     ]
    }
   ],
   "source": [
    "# Director\n",
    "for i in page1.find_all(\"div\", class_ = \"postwrap\"):\n",
    "    try:\n",
    "        print(i.find_all(\"div\", style = re.compile(\"^height: 30px\"))[3].text.strip()) # Director\n",
    "    except:\n",
    "        try:\n",
    "            print(i.find(\"span\", class_= \"itemprop\").text.strip()) # rating\n",
    "        except:\n",
    "            print('No Director')"
   ]
  },
  {
   "cell_type": "code",
   "execution_count": 105,
   "metadata": {},
   "outputs": [
    {
     "name": "stdout",
     "output_type": "stream",
     "text": [
      "Herbert L. Strock\n",
      "R.H. Greene, Protagonist\n",
      "Kate Archer, Aella Martin\n",
      "Writers: Njutafilms, Story AB, Swedish Film Institute\n",
      "Written by: Michael Lesy\n",
      "Writer: Malcolm Leigh\n",
      "Writers: John Aes-Nihil, Aes-Nihil Productions\n",
      "Writers: Howard Alk, Seaton Findlay, Crawley Films\n",
      "No Writer\n",
      "Writers: James Walker, Edward Boase, Magma Pictures, Ptarmigan ACP\n"
     ]
    }
   ],
   "source": [
    "# Writer\n",
    "for i in page1.find_all(\"div\", class_ = \"postwrap\"):\n",
    "    try:\n",
    "        print(i.find_all(\"div\")[8].p.text.strip()) # Director\n",
    "    except:\n",
    "        try:\n",
    "            print(i.find_all(\"div\")[8].find(\"strong\").next_element.next_element.strip()) # rating\n",
    "        except:\n",
    "            try:\n",
    "                print(i.find(\"div\",class_ = \"postcontent\").ul.find_all(\"li\")[3].text.strip())\n",
    "            except:\n",
    "                print('No Writer')"
   ]
  },
  {
   "cell_type": "code",
   "execution_count": 169,
   "metadata": {},
   "outputs": [
    {
     "name": "stdout",
     "output_type": "stream",
     "text": [
      "Anthony Eisley\n",
      "Dana Gould, Maila Nurmi, Gloria Pall\n",
      "Kate Archer, Aella Martin\n",
      "James Marsh, Ian Holm, Jeffrey Golden, Jo Vukelich\n",
      "Malcolm Leigh\n",
      "Rick the Precious Dove, John Aes-Nihil, Katie Lazarus\n",
      "Janis Joplin, Peter Albin, Sam Andrew\n",
      "No Writer\n",
      "Neil McDermott, Nick Ashdon, Mark Dexter\n"
     ]
    }
   ],
   "source": [
    "# Writer\n",
    "# problem\n",
    "for i in page1.find_all(\"div\", class_ = \"postwrap\"):\n",
    "    try:\n",
    "        if i.find_all(\"div\")[2].find_all(\"strong\")[5].text.lower().startswith(\"s\"):\n",
    "            print(i.find_all(\"div\")[2].find_all(\"strong\")[5].next_element.next_element.strip()) # Director\n",
    "        else:\n",
    "            if i.find_all(\"div\")[2].find_all(\"strong\")[4].text.lower().startswith(\"s\"):\n",
    "                print(i.find_all(\"div\")[2].find_all(\"strong\")[4].next_element.next_element.strip()) # rating\n",
    "    except:\n",
    "            try:\n",
    "                print(', '.join(j.text for j in i.find(\"div\",class_ = \"postcontent\").ul.find_all(\"span\", class_= \"itemprop\")))\n",
    "            except:\n",
    "                print('No Writer')"
   ]
  },
  {
   "cell_type": "code",
   "execution_count": 232,
   "metadata": {},
   "outputs": [
    {
     "name": "stdout",
     "output_type": "stream",
     "text": [
      "Year: 1980\n",
      "Year: 2012\n",
      "Year: 2015\n",
      "Year: 2009\n",
      "Year: 1999\n",
      "Year: 1970\n",
      "Year: 1984\n",
      "Year: 1974\n",
      "No year\n",
      "Year: 2011\n"
     ]
    }
   ],
   "source": [
    "# year\n",
    "# problem\n",
    "for i in page1.find_all(\"div\", class_ = \"postwrap\"):\n",
    "    try:\n",
    "        main = i.find_all('td', style = re.compile(\"^vertical-align: top\"))[1].find_all(\"div\", style = re.compile(\"^height: 30px\"))\n",
    "        for j in main:\n",
    "            if j.find('strong').text.lower().startswith('year'):\n",
    "                print(j.text.strip())\n",
    "                break\n",
    "    except:\n",
    "        try:\n",
    "            main1 = i.find('div', class_=\"postcontent\").ul.find_all(\"li\")\n",
    "            for j in main1:\n",
    "                if j.span.next_element.text.strip().lower().startswith('year'):\n",
    "                    print(j.text.strip())\n",
    "                    break\n",
    "        except:\n",
    "            print('No year')"
   ]
  },
  {
   "cell_type": "code",
   "execution_count": 226,
   "metadata": {},
   "outputs": [],
   "source": [
    "var = page1.find_all(\"div\", class_ = \"postwrap\")[5]\n",
    "# print(var.prettify())"
   ]
  },
  {
   "cell_type": "code",
   "execution_count": 227,
   "metadata": {},
   "outputs": [
    {
     "data": {
      "text/plain": [
       "<div class=\"postwrap\">\n",
       "<h2 class=\"posttitle\"><a href=\"https://wipfilms.net/vampire-witches-werewolves/the-legend-of-the-witches/\">The Legend of the Witches</a></h2>\n",
       "<div class=\"postmeta\">Posted on <span class=\"sdata\" title=\"May 22 2016\"></span></div>\n",
       "<div class=\"clr16\"></div>\n",
       "<div class=\"postcontent\"><center><div class=\"pd-rating\" id=\"pd_rating_holder_5582056_post_183610\"></div>\n",
       "<p style=\"text-align: center\"><a href=\"http://wipfilms.net/wp-content/uploads/2016/05/the-legend-of-the-witches-poster.jpg\"><img alt=\"The Legend of the Witches movie\" class=\"size-full wp-image-183621 alignleft\" height=\"268\" sizes=\"(max-width: 182px) 100vw, 182px\" src=\"https://wipfilms.net/wp-content/uploads/2016/05/the-legend-of-the-witches-poster.jpg\" srcset=\"https://wipfilms.net/wp-content/uploads/2016/05/the-legend-of-the-witches-poster.jpg 182w, https://wipfilms.net/wp-content/uploads/2016/05/the-legend-of-the-witches-poster-170x250.jpg 170w\" title=\"The Legend of the Witches film\" width=\"182\"/></a></p>\n",
       "<ul>\n",
       "<li><span id=\"boldText\">Year:</span><span id=\"aaa\"> 1970</span></li>\n",
       "<li><span id=\"boldText\">Duration:</span><span id=\"aaa\"> 72 min<br/>\n",
       "</span></li>\n",
       "<li><span id=\"boldText\">Directed by:</span><span id=\"aaa\">  <span class=\"itemprop\">Malcolm Leigh</span> </span></li>\n",
       "<li>Writer: Malcolm Leigh</li>\n",
       "<li><span id=\"boldText\">Language:</span><span id=\"aaa\"> English<br/>\n",
       "</span></li>\n",
       "<li><span id=\"boldText\">Country:</span><span id=\"aaa\"> UK<br/>\n",
       "</span></li>\n",
       "<li><span id=\"boldText\"></span><span id=\"aaa\"></span><span id=\"boldText\">Description: </span><span id=\"aaa\">Documentary about witches and their history in the UK, featuring ‘real’ rituals, re-enactments, a visit to the Witch Museum in Cromwell, and lots of nudity! There is a rumor that a longer version exists, except no one can find it and it seems like a idea pulled straight from some troll’s ass. Besides, even at 72 minutes, this B/W doc seems interminable. Some fascinating bits, though.<br/>\n",
       "</span></li>\n",
       "</ul>\n",
       "<p style=\"text-align: center\"> <a class=\"more-link\" href=\"https://wipfilms.net/vampire-witches-werewolves/the-legend-of-the-witches/#more-183610\">Continue reading about the film <strong>The Legend of the Witches</strong></a></p>\n",
       "</center></div>\n",
       "<div class=\"clr\"></div>\n",
       "<div class=\"roundcornrrbox\">\n",
       "<div class=\"topleftcorner\"><div class=\"toprightcorner\"></div></div>\n",
       "<div class=\"roubcornrcontent\">\n",
       "<span class=\"postcomments\"><a href=\"https://wipfilms.net/vampire-witches-werewolves/the-legend-of-the-witches/#respond\">Leave a Comment</a></span>\n",
       "<div class=\"clr\"></div>\n",
       "</div>\n",
       "<div class=\"bottomleftcorner\"><div class=\"bottomrightcorner\"></div></div>\n",
       "</div>\n",
       "<div class=\"cleared\"></div>\n",
       "</div>"
      ]
     },
     "execution_count": 227,
     "metadata": {},
     "output_type": "execute_result"
    }
   ],
   "source": [
    "var"
   ]
  },
  {
   "cell_type": "code",
   "execution_count": 231,
   "metadata": {},
   "outputs": [
    {
     "name": "stdout",
     "output_type": "stream",
     "text": [
      "Year: 1970\n"
     ]
    }
   ],
   "source": [
    "main = var.find('div', class_=\"postcontent\").ul.find_all(\"li\")\n",
    "for j in main:\n",
    "    if j.span.next_element.text.strip().lower().startswith('year'):\n",
    "        print(j.text)\n",
    "        break"
   ]
  },
  {
   "cell_type": "code",
   "execution_count": 225,
   "metadata": {},
   "outputs": [
    {
     "name": "stdout",
     "output_type": "stream",
     "text": [
      "1984\n"
     ]
    }
   ],
   "source": [
    "main = var.find_all('td', style = re.compile(\"^vertical-align: top\"))[1].find_all(\"div\", style = re.compile(\"^height: 30px\"))\n",
    "for i in main:\n",
    "    if i.find('strong').text.lower().startswith('y'):\n",
    "        print(i.find('strong').next_element.next_element.strip())"
   ]
  },
  {
   "cell_type": "code",
   "execution_count": 168,
   "metadata": {},
   "outputs": [
    {
     "data": {
      "text/plain": [
       "[<span id=\"boldText\">Year:</span>,\n",
       " <span id=\"aaa\"> 1999</span>,\n",
       " <span id=\"boldText\">Duration:</span>,\n",
       " <span id=\"aaa\"> 78 min<br/>\n",
       " </span>,\n",
       " <span id=\"boldText\">Directed by:</span>,\n",
       " <span id=\"aaa\">  <span class=\"itemprop\">James Marsh</span> </span>,\n",
       " <span class=\"itemprop\">James Marsh</span>,\n",
       " <span id=\"boldText\">Written by: Michael Lesy</span>,\n",
       " <span id=\"aaa\"></span>,\n",
       " <span id=\"boldText\">Actors:</span>,\n",
       " <span id=\"aaa\">  <span class=\"itemprop\">Ian Holm</span>, <span class=\"itemprop\">Jeffrey Golden</span>, <span class=\"itemprop\">Jo Vukelich</span> </span>,\n",
       " <span class=\"itemprop\">Ian Holm</span>,\n",
       " <span class=\"itemprop\">Jeffrey Golden</span>,\n",
       " <span class=\"itemprop\">Jo Vukelich</span>,\n",
       " <span id=\"boldText\">Language: English</span>,\n",
       " <span id=\"aaa\"><br/>\n",
       " </span>,\n",
       " <span id=\"boldText\">Country:</span>,\n",
       " <span id=\"aaa\"> UK, USA<br/>\n",
       " </span>,\n",
       " <span id=\"boldText\">Also known as:</span>,\n",
       " <span id=\"aaa\"> Kuoleman loukko</span>,\n",
       " <span id=\"boldText\">Description:</span>,\n",
       " <span id=\"aaa\"> Strange, morbid, shocking documentary about a small town in Wisconsin during the 1890’s. Using real photographs, real newspaper headlines and staged re-enactments, this flick depicts a town full of insane people who commit suicide, murder, and arson on a regular basis, while claiming to be possessed by devils, haunted by ghosts, and terrorized by gun toting children on drugs.<br/>\n",
       " </span>]"
      ]
     },
     "execution_count": 168,
     "metadata": {},
     "output_type": "execute_result"
    }
   ],
   "source": [
    "var.find(\"div\",class_ = \"postcontent\").ul.find_all(\"span\")"
   ]
  },
  {
   "cell_type": "code",
   "execution_count": 156,
   "metadata": {},
   "outputs": [
    {
     "data": {
      "text/plain": [
       "False"
      ]
     },
     "execution_count": 156,
     "metadata": {},
     "output_type": "execute_result"
    }
   ],
   "source": [
    "var.find_all(\"div\")[2].find_all('strong')[5].text.lower().startswith(\"s\")"
   ]
  },
  {
   "cell_type": "code",
   "execution_count": 151,
   "metadata": {},
   "outputs": [
    {
     "data": {
      "text/plain": [
       "'Kate Archer, Aella Martin'"
      ]
     },
     "execution_count": 151,
     "metadata": {},
     "output_type": "execute_result"
    }
   ],
   "source": [
    "var.find_all(\"div\")[2].find_all('strong')[4].next_element.next_element.strip()"
   ]
  },
  {
   "cell_type": "code",
   "execution_count": 139,
   "metadata": {},
   "outputs": [
    {
     "data": {
      "text/plain": [
       "'James Marsh, Ian Holm, Jeffrey Golden, Jo Vukelich'"
      ]
     },
     "execution_count": 139,
     "metadata": {},
     "output_type": "execute_result"
    }
   ],
   "source": [
    "', '.join(i.text for i in var.find(\"div\",class_ = \"postcontent\").ul.find_all(\"span\", class_= \"itemprop\"))"
   ]
  },
  {
   "cell_type": "code",
   "execution_count": 132,
   "metadata": {},
   "outputs": [
    {
     "data": {
      "text/plain": [
       "[<li><span id=\"boldText\">Year:</span><span id=\"aaa\"> 1970</span></li>,\n",
       " <li><span id=\"boldText\">Duration:</span><span id=\"aaa\"> 72 min<br/>\n",
       " </span></li>,\n",
       " <li><span id=\"boldText\">Directed by:</span><span id=\"aaa\">  <span class=\"itemprop\">Malcolm Leigh</span> </span></li>,\n",
       " <li>Writer: Malcolm Leigh</li>,\n",
       " <li><span id=\"boldText\">Language:</span><span id=\"aaa\"> English<br/>\n",
       " </span></li>,\n",
       " <li><span id=\"boldText\">Country:</span><span id=\"aaa\"> UK<br/>\n",
       " </span></li>,\n",
       " <li><span id=\"boldText\"></span><span id=\"aaa\"></span><span id=\"boldText\">Description: </span><span id=\"aaa\">Documentary about witches and their history in the UK, featuring ‘real’ rituals, re-enactments, a visit to the Witch Museum in Cromwell, and lots of nudity! There is a rumor that a longer version exists, except no one can find it and it seems like a idea pulled straight from some troll’s ass. Besides, even at 72 minutes, this B/W doc seems interminable. Some fascinating bits, though.<br/>\n",
       " </span></li>]"
      ]
     },
     "execution_count": 132,
     "metadata": {},
     "output_type": "execute_result"
    }
   ],
   "source": [
    "var.find(\"div\",class_ = \"postcontent\").ul.find_all(\"li\")"
   ]
  },
  {
   "cell_type": "code",
   "execution_count": 104,
   "metadata": {},
   "outputs": [
    {
     "data": {
      "text/plain": [
       "'Writer: Malcolm Leigh'"
      ]
     },
     "execution_count": 104,
     "metadata": {},
     "output_type": "execute_result"
    }
   ],
   "source": [
    "var.find(\"div\",class_ = \"postcontent\").ul.find_all(\"li\")[3].text.strip()"
   ]
  },
  {
   "cell_type": "code",
   "execution_count": 126,
   "metadata": {},
   "outputs": [
    {
     "data": {
      "text/plain": [
       "<strong>Stars:</strong>"
      ]
     },
     "execution_count": 126,
     "metadata": {},
     "output_type": "execute_result"
    }
   ],
   "source": [
    "var.find_all(\"div\")[2].find_all(\"strong\")[4]"
   ]
  },
  {
   "cell_type": "code",
   "execution_count": 144,
   "metadata": {},
   "outputs": [
    {
     "name": "stdout",
     "output_type": "stream",
     "text": [
      "<div class=\"postmeta\">Posted on <span class=\"sdata\" title=\"May 24 2016\"></span></div>\n",
      "------------------------------------------------------------\n",
      "<div class=\"clr16\"></div>\n",
      "------------------------------------------------------------\n",
      "<div class=\"postcontent\"><center><div class=\"pd-rating\" id=\"pd_rating_holder_5582056_post_184016\"></div>\n",
      "<table>\n",
      "<tbody>\n",
      "<tr>\n",
      "<td style=\"vertical-align: top;\"><img alt=\"Dirty Diaries movie\" src=\"https://wipfilms.net/wp-content/data/posters/tt1686029.jpg\" title=\"Dirty Diaries film\"/></td>\n",
      "<td style=\"vertical-align: top;\">\n",
      "<div style=\"height: 30px;\"><img alt=\"Dirty Diaries movie\" src=\"https://wipfilms.net/wp-content/plugins/moviefeed/img/duration.png\" style=\"vertical-align: middle;\" title=\"Dirty Diaries film\"/> <strong>Run time:</strong> <time datetime=\"PT98M\"> 1h 38min </time></div>\n",
      "<div style=\"height: 30px;\"><img alt=\"Dirty Diaries movie\" src=\"https://wipfilms.net/wp-content/plugins/moviefeed/img/heart.png\" style=\"vertical-align: middle;\" title=\"Dirty Diaries film\"/> <strong>Rating:</strong> 4.7</div>\n",
      "<div style=\"height: 30px;\"><img alt=\"Dirty Diaries movie\" src=\"https://wipfilms.net/wp-content/plugins/moviefeed/img/genre.png\" style=\"vertical-align: middle;\" title=\"Dirty Diaries film\"/> <strong>Genres:</strong> Adult</div>\n",
      "<div style=\"height: 30px;\"><img alt=\"Dirty Diaries movie\" src=\"https://wipfilms.net/wp-content/plugins/moviefeed/img/info.png\" style=\"vertical-align: middle;\" title=\"Dirty Diaries film\"/> <strong>Director:</strong> Ester Martin Bergsmark, Mia Engberg</div>\n",
      "<div>\n",
      "<p><img alt=\"Dirty Diaries movie\" src=\"https://wipfilms.net/wp-content/plugins/moviefeed/img/info.png\" style=\"vertical-align: middle;\" title=\"Dirty Diaries film\"/> <strong>Writers:</strong> Njutafilms, Story AB, Swedish Film Institute</p>\n",
      "<div style=\"height: 30px;\"><img alt=\"Dirty Diaries movie\" src=\"https://wipfilms.net/wp-content/plugins/moviefeed/img/list.png\" style=\"vertical-align: middle;\" title=\"Dirty Diaries film\"/> <strong>Year:</strong> 2009</div>\n",
      "<div style=\"height: 30px;\"><img alt=\"Dirty Diaries movie\" src=\"https://wipfilms.net/wp-content/plugins/moviefeed/img/list.png\" style=\"vertical-align: middle;\" title=\"Dirty Diaries film\"/> <strong>Source:</strong> <a href=\"http://www.imdb.com/title/tt1686029\" target=\"_blank\"> <img alt=\"Dirty Diaries movie\" src=\"https://wipfilms.net/wp-content/plugins/moviefeed/img/imdb_id.png\" style=\"vertical-align: middle;\" title=\"Dirty Diaries film\"/> </a></div>\n",
      "</div>\n",
      "</td>\n",
      "</tr>\n",
      "<tr>\n",
      "<td colspan=\"2\"><center> <a class=\"more-link\" href=\"https://wipfilms.net/documentary-category/dirty-diaries/#more-184016\">Continue reading about the film <strong>Dirty Diaries</strong></a></center></td>\n",
      "</tr>\n",
      "</tbody>\n",
      "</table>\n",
      "</center></div>\n",
      "------------------------------------------------------------\n",
      "<div class=\"pd-rating\" id=\"pd_rating_holder_5582056_post_184016\"></div>\n",
      "------------------------------------------------------------\n",
      "<div style=\"height: 30px;\"><img alt=\"Dirty Diaries movie\" src=\"https://wipfilms.net/wp-content/plugins/moviefeed/img/duration.png\" style=\"vertical-align: middle;\" title=\"Dirty Diaries film\"/> <strong>Run time:</strong> <time datetime=\"PT98M\"> 1h 38min </time></div>\n",
      "------------------------------------------------------------\n",
      "<div style=\"height: 30px;\"><img alt=\"Dirty Diaries movie\" src=\"https://wipfilms.net/wp-content/plugins/moviefeed/img/heart.png\" style=\"vertical-align: middle;\" title=\"Dirty Diaries film\"/> <strong>Rating:</strong> 4.7</div>\n",
      "------------------------------------------------------------\n",
      "<div style=\"height: 30px;\"><img alt=\"Dirty Diaries movie\" src=\"https://wipfilms.net/wp-content/plugins/moviefeed/img/genre.png\" style=\"vertical-align: middle;\" title=\"Dirty Diaries film\"/> <strong>Genres:</strong> Adult</div>\n",
      "------------------------------------------------------------\n",
      "<div style=\"height: 30px;\"><img alt=\"Dirty Diaries movie\" src=\"https://wipfilms.net/wp-content/plugins/moviefeed/img/info.png\" style=\"vertical-align: middle;\" title=\"Dirty Diaries film\"/> <strong>Director:</strong> Ester Martin Bergsmark, Mia Engberg</div>\n",
      "------------------------------------------------------------\n",
      "<div>\n",
      "<p><img alt=\"Dirty Diaries movie\" src=\"https://wipfilms.net/wp-content/plugins/moviefeed/img/info.png\" style=\"vertical-align: middle;\" title=\"Dirty Diaries film\"/> <strong>Writers:</strong> Njutafilms, Story AB, Swedish Film Institute</p>\n",
      "<div style=\"height: 30px;\"><img alt=\"Dirty Diaries movie\" src=\"https://wipfilms.net/wp-content/plugins/moviefeed/img/list.png\" style=\"vertical-align: middle;\" title=\"Dirty Diaries film\"/> <strong>Year:</strong> 2009</div>\n",
      "<div style=\"height: 30px;\"><img alt=\"Dirty Diaries movie\" src=\"https://wipfilms.net/wp-content/plugins/moviefeed/img/list.png\" style=\"vertical-align: middle;\" title=\"Dirty Diaries film\"/> <strong>Source:</strong> <a href=\"http://www.imdb.com/title/tt1686029\" target=\"_blank\"> <img alt=\"Dirty Diaries movie\" src=\"https://wipfilms.net/wp-content/plugins/moviefeed/img/imdb_id.png\" style=\"vertical-align: middle;\" title=\"Dirty Diaries film\"/> </a></div>\n",
      "</div>\n",
      "------------------------------------------------------------\n",
      "<div style=\"height: 30px;\"><img alt=\"Dirty Diaries movie\" src=\"https://wipfilms.net/wp-content/plugins/moviefeed/img/list.png\" style=\"vertical-align: middle;\" title=\"Dirty Diaries film\"/> <strong>Year:</strong> 2009</div>\n",
      "------------------------------------------------------------\n",
      "<div style=\"height: 30px;\"><img alt=\"Dirty Diaries movie\" src=\"https://wipfilms.net/wp-content/plugins/moviefeed/img/list.png\" style=\"vertical-align: middle;\" title=\"Dirty Diaries film\"/> <strong>Source:</strong> <a href=\"http://www.imdb.com/title/tt1686029\" target=\"_blank\"> <img alt=\"Dirty Diaries movie\" src=\"https://wipfilms.net/wp-content/plugins/moviefeed/img/imdb_id.png\" style=\"vertical-align: middle;\" title=\"Dirty Diaries film\"/> </a></div>\n",
      "------------------------------------------------------------\n",
      "<div class=\"clr\"></div>\n",
      "------------------------------------------------------------\n",
      "<div class=\"roundcornrrbox\">\n",
      "<div class=\"topleftcorner\"><div class=\"toprightcorner\"></div></div>\n",
      "<div class=\"roubcornrcontent\">\n",
      "<span class=\"postcomments\"><a href=\"https://wipfilms.net/documentary-category/dirty-diaries/#respond\">Leave a Comment</a></span>\n",
      "<div class=\"clr\"></div>\n",
      "</div>\n",
      "<div class=\"bottomleftcorner\"><div class=\"bottomrightcorner\"></div></div>\n",
      "</div>\n",
      "------------------------------------------------------------\n",
      "<div class=\"topleftcorner\"><div class=\"toprightcorner\"></div></div>\n",
      "------------------------------------------------------------\n",
      "<div class=\"toprightcorner\"></div>\n",
      "------------------------------------------------------------\n",
      "<div class=\"roubcornrcontent\">\n",
      "<span class=\"postcomments\"><a href=\"https://wipfilms.net/documentary-category/dirty-diaries/#respond\">Leave a Comment</a></span>\n",
      "<div class=\"clr\"></div>\n",
      "</div>\n",
      "------------------------------------------------------------\n",
      "<div class=\"clr\"></div>\n",
      "------------------------------------------------------------\n",
      "<div class=\"bottomleftcorner\"><div class=\"bottomrightcorner\"></div></div>\n",
      "------------------------------------------------------------\n",
      "<div class=\"bottomrightcorner\"></div>\n",
      "------------------------------------------------------------\n",
      "<div class=\"cleared\"></div>\n",
      "------------------------------------------------------------\n"
     ]
    }
   ],
   "source": [
    "for i in var.find_all(\"div\"):\n",
    "    print(i)\n",
    "    print(\"---\"*20)"
   ]
  },
  {
   "cell_type": "code",
   "execution_count": 95,
   "metadata": {},
   "outputs": [
    {
     "data": {
      "text/plain": [
       "' Herbert L. Strock\\n'"
      ]
     },
     "execution_count": 95,
     "metadata": {},
     "output_type": "execute_result"
    }
   ],
   "source": [
    "var.find_all(\"div\")[8].find(\"strong\").next_element.next_element"
   ]
  }
 ],
 "metadata": {
  "kernelspec": {
   "display_name": "Python 3",
   "language": "python",
   "name": "python3"
  },
  "language_info": {
   "codemirror_mode": {
    "name": "ipython",
    "version": 3
   },
   "file_extension": ".py",
   "mimetype": "text/x-python",
   "name": "python",
   "nbconvert_exporter": "python",
   "pygments_lexer": "ipython3",
   "version": "3.10.9"
  }
 },
 "nbformat": 4,
 "nbformat_minor": 2
}
