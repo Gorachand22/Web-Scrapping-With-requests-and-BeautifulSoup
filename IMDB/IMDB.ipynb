{
  "nbformat": 4,
  "nbformat_minor": 0,
  "metadata": {
    "colab": {
      "provenance": []
    },
    "kernelspec": {
      "name": "python3",
      "display_name": "Python 3"
    },
    "language_info": {
      "name": "python"
    }
  },
  "cells": [
    {
      "cell_type": "markdown",
      "source": [
        "### 1. Import necessary libraries"
      ],
      "metadata": {
        "id": "bOoWFszWBQeN"
      }
    },
    {
      "cell_type": "code",
      "execution_count": null,
      "metadata": {
        "id": "0VqA57nVA4pM"
      },
      "outputs": [],
      "source": [
        "import requests, openpyxl\n",
        "from bs4 import BeautifulSoup\n",
        "import numpy as np\n",
        "import pandas as pd\n",
        "import matplotlib.pyplot as plt"
      ]
    },
    {
      "cell_type": "markdown",
      "source": [
        "### Create a Excel file"
      ],
      "metadata": {
        "id": "DKpmjgLd8HR_"
      }
    },
    {
      "cell_type": "code",
      "source": [
        "\n",
        "excel = openpyxl.Workbook()\n",
        "# print(excel.sheetnames)\n",
        "sheet = excel.active\n",
        "sheet.title = 'Top Rated Movies'\n",
        "# print(excel.sheetnames)\n",
        "sheet.append([\"Movie Rank\",\"Movie name\", \"Year of the Release\", \"IMDB Rating\"])\n",
        "\n",
        "\n",
        "try:\n",
        "    source=requests.get(\"https://www.imdb.com/chart/top?ref_=nv_mv_250\")\n",
        "    source.raise_for_status()\n",
        "    \n",
        "    soup = BeautifulSoup(source.text,'html.parser')\n",
        "    movies=soup.find('tbody',class_=\"lister-list\").find_all('tr')\n",
        "\n",
        "    for movie in movies:\n",
        "        name = movie.find('td',class_=\"titleColumn\").a.text\n",
        "        \n",
        "        rank = movie.find('td',class_=\"titleColumn\").get_text(strip=True).split('.')[0]\n",
        "        \n",
        "        year = movie.find('td',class_=\"titleColumn\").span.text.strip('()')\n",
        "        \n",
        "        rating = movie.find('td',class_=\"ratingColumn imdbRating\").strong.text\n",
        "\n",
        "        # print(rank,name,year,rating)\n",
        "        # break\n",
        "        sheet.append([rank,name,year,rating])\n",
        "\n",
        "except Exception as e:\n",
        "    print(e)\n",
        "\n",
        "excel.save('IMDB Movie Rating.xlsx')\n"
      ],
      "metadata": {
        "id": "TOBcDIs2Hfel"
      },
      "execution_count": null,
      "outputs": []
    },
    {
      "cell_type": "code",
      "source": [],
      "metadata": {
        "id": "YlU2goA7ARtl"
      },
      "execution_count": null,
      "outputs": []
    },
    {
      "cell_type": "code",
      "source": [
        "import requests\n",
        "from bs4 import BeautifulSoup\n",
        "\n",
        "source = requests.get('https://www.imdb.com/chart/top?ref_=nv_mv_250')\n",
        "soup = BeautifulSoup(source.text,'html.parser')\n",
        "feature_movies = soup.find('p').text\n",
        "print(feature_movies)"
      ],
      "metadata": {
        "colab": {
          "base_uri": "https://localhost:8080/"
        },
        "id": "brkCfAd7ASpN",
        "outputId": "dc9ba2ed-5306-47a5-d980-aba9cfb053fd"
      },
      "execution_count": null,
      "outputs": [
        {
          "output_type": "stream",
          "name": "stdout",
          "text": [
            "The Top Rated Movie list only includes feature films.\n"
          ]
        }
      ]
    },
    {
      "cell_type": "markdown",
      "source": [
        "## Print all the movie year from the given URL"
      ],
      "metadata": {
        "id": "rswyCvz6CFuX"
      }
    },
    {
      "cell_type": "code",
      "source": [
        "import requests\n",
        "from bs4 import BeautifulSoup\n",
        "\n",
        "source = requests.get('https://www.imdb.com/search/title/?groups=top_1000&sort=user_rating,desc&count=100&start=000&ref_=adv_next')\n",
        "soup = BeautifulSoup(source.text,'html.parser')\n",
        "\n",
        "movies = soup.find('div',class_=\"lister list detail sub-list\").find('div',class_=\"lister-list\").find_all('div',class_=\"lister-item mode-advanced\")\n",
        "\n",
        "yr=[]\n",
        "for movie in movies:\n",
        "    year = movie.find('div', class_=\"lister-item-content\").h3.find('span',class_=\"lister-item-year text-muted unbold\").text.strip(\"()\")\n",
        "    yr.append(str(year))\n",
        "print(yr)"
      ],
      "metadata": {
        "colab": {
          "base_uri": "https://localhost:8080/"
        },
        "id": "IMKKpdo0CHrg",
        "outputId": "8ecb6bea-4cf9-4c48-90d5-991ef81a57f3"
      },
      "execution_count": null,
      "outputs": [
        {
          "output_type": "stream",
          "name": "stdout",
          "text": [
            "['1994', '1972', '2008', '1993', '2003', '1974', '1957', '1994', '2022', '2001', '2010', '1999', '1994', '2002', '1966', '2021', '2022', '1999', '1975', '1990', '1980', '2020', '2014', '1995', '1991', '1999', '1977', '1998', '1991', '2001', '1997', '2002', '1946', '1954', '2022', '1962', '2014', '2000', '2019', '2006', '1985', '2006', '1979', '1994', '1979', '1995', '1994', '1998', '1968', '2002', '2011', '1942', '1960', '1988', '1954', '1988', '2019', '1936', '1931', 'II) (2018', '2019', '1981', 'I) (2019', '2012', '1999', '2003', '2018', '2000', '1980', '2012', '2018', '1986', '1995', '2020', '1985', '1984', 'I) (2017', '2008', '2016', '2006', '2009', '1964', '2018', '1997', '1981', '1950', '1957', '1957', '1940', '2021', '1963', '2021', '2021', '2019', '2022', '1997', '2009', '1995', '2000', '2004']\n"
          ]
        }
      ]
    },
    {
      "cell_type": "markdown",
      "source": [
        "## Print all the movie Ratings from the given URL"
      ],
      "metadata": {
        "id": "ci2PYbQvb1xn"
      }
    },
    {
      "cell_type": "code",
      "source": [
        "import requests\n",
        "from bs4 import BeautifulSoup\n",
        "\n",
        "source = requests.get('https://www.imdb.com/search/title/?groups=top_1000&sort=user_rating,desc&count=100&start=000&ref_=adv_next')\n",
        "soup = BeautifulSoup(source.text,'html.parser')\n",
        "\n",
        "movies = soup.find('div',class_=\"lister list detail sub-list\").find('div',class_=\"lister-list\").find_all('div',class_=\"lister-item mode-advanced\")\n",
        "\n",
        "yr=[]\n",
        "for movie in movies:\n",
        "    year = movie.find('div', class_=\"lister-item-content\").div.strong.text\n",
        "    yr.append(year)\n",
        "print(yr)"
      ],
      "metadata": {
        "colab": {
          "base_uri": "https://localhost:8080/"
        },
        "id": "HK8h8yK7b6Rn",
        "outputId": "8c11d6ce-20f6-430b-fee8-949d0d00ebf9"
      },
      "execution_count": null,
      "outputs": [
        {
          "output_type": "stream",
          "name": "stdout",
          "text": [
            "['9.3', '9.2', '9.0', '9.0', '9.0', '9.0', '9.0', '8.9', '8.9', '8.8', '8.8', '8.8', '8.8', '8.8', '8.8', '8.8', '8.8', '8.7', '8.7', '8.7', '8.7', '8.7', '8.6', '8.6', '8.6', '8.6', '8.6', '8.6', '8.6', '8.6', '8.6', '8.6', '8.6', '8.6', '8.6', '8.6', '8.5', '8.5', '8.5', '8.5', '8.5', '8.5', '8.5', '8.5', '8.5', '8.5', '8.5', '8.5', '8.5', '8.5', '8.5', '8.5', '8.5', '8.5', '8.5', '8.5', '8.5', '8.5', '8.5', '8.5', '8.4', '8.4', '8.4', '8.4', '8.4', '8.4', '8.4', '8.4', '8.4', '8.4', '8.4', '8.4', '8.4', '8.4', '8.4', '8.4', '8.4', '8.4', '8.4', '8.4', '8.4', '8.4', '8.4', '8.4', '8.4', '8.4', '8.4', '8.4', '8.4', '8.4', '8.4', '8.4', '8.4', '8.4', '8.3', '8.3', '8.3', '8.3', '8.3', '8.3']\n"
          ]
        }
      ]
    }
  ]
}